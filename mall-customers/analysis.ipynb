{
 "cells": [
  {
   "cell_type": "markdown",
   "metadata": {},
   "source": [
    "# Clustering Mall Customers\n",
    "\n",
    "Last updated: September 2020\n",
    "\n",
    "## How is this useful?\n",
    "\n",
    "\n",
    "\n",
    "## About the Dataset\n",
    "\n"
   ]
  },
  {
   "cell_type": "code",
   "execution_count": 46,
   "metadata": {},
   "outputs": [
    {
     "name": "stdout",
     "output_type": "stream",
     "text": [
      "Dataset shape:  (200, 5)\n",
      "   CustomerID  Gender  Age  Annual Income (k$)  Spending Score (1-100)\n",
      "0           1    Male   19                  15                      39\n",
      "1           2    Male   21                  15                      81\n",
      "2           3  Female   20                  16                       6\n",
      "3           4  Female   23                  16                      77\n",
      "4           5  Female   31                  17                      40\n"
     ]
    }
   ],
   "source": [
    "import pandas as pd\n",
    "import numpy as np\n",
    "from matplotlib import pyplot as plt\n",
    "\n",
    "# read in the dataset, print shape and column titles\n",
    "dataset = pd.read_csv('Mall_Customers.csv')\n",
    "print(\"Dataset shape: \", dataset.shape)\n",
    "print(dataset.head())"
   ]
  },
  {
   "cell_type": "code",
   "execution_count": 47,
   "metadata": {},
   "outputs": [
    {
     "data": {
      "application/vnd.jupyter.widget-view+json": {
       "model_id": "c9a1da013832426e8c6e8ad43f97793a",
       "version_major": 2,
       "version_minor": 0
      },
      "text/plain": [
       "Canvas(toolbar=Toolbar(toolitems=[('Home', 'Reset original view', 'home', 'home'), ('Back', 'Back to previous …"
      ]
     },
     "metadata": {},
     "output_type": "display_data"
    }
   ],
   "source": [
    "%matplotlib widget\n",
    "x = dataset.iloc[:,2].values\n",
    "\n",
    "plt.figure()\n",
    "plt.hist(x,12,alpha=0.5)\n",
    "plt.xlabel('Age')\n",
    "plt.ylabel('Count')\n",
    "plt.title('Histogram of Age')\n",
    "plt.show()"
   ]
  },
  {
   "cell_type": "code",
   "execution_count": 35,
   "metadata": {},
   "outputs": [
    {
     "data": {
      "application/vnd.jupyter.widget-view+json": {
       "model_id": "407ad48d9304453bb49f6776837364db",
       "version_major": 2,
       "version_minor": 0
      },
      "text/plain": [
       "Canvas(toolbar=Toolbar(toolitems=[('Home', 'Reset original view', 'home', 'home'), ('Back', 'Back to previous …"
      ]
     },
     "metadata": {},
     "output_type": "display_data"
    }
   ],
   "source": [
    "x = dataset.iloc[:,3].values\n",
    "\n",
    "plt.figure(dpi=110)\n",
    "plt.hist(x,12,alpha=0.5)\n",
    "plt.xlabel('Annual Income (1000s)')\n",
    "plt.ylabel('Count')\n",
    "plt.title('Histogram of Annual Income')\n",
    "plt.show()"
   ]
  },
  {
   "cell_type": "code",
   "execution_count": 37,
   "metadata": {},
   "outputs": [
    {
     "data": {
      "application/vnd.jupyter.widget-view+json": {
       "model_id": "9ac3546a6f97445093c6dbc216b834a2",
       "version_major": 2,
       "version_minor": 0
      },
      "text/plain": [
       "Canvas(toolbar=Toolbar(toolitems=[('Home', 'Reset original view', 'home', 'home'), ('Back', 'Back to previous …"
      ]
     },
     "metadata": {},
     "output_type": "display_data"
    }
   ],
   "source": [
    "X = dataset.iloc[:,[2,4]].values\n",
    "Y = dataset.iloc[:,[3,4]].values\n",
    "\n",
    "fig, (ax1, ax2) = plt.subplots(1, 2,figsize=(10,4))\n",
    "fig.suptitle('Data Visualisation')\n",
    "ax1.scatter(X[:, 0], X[:, 1], s=50, cmap='viridis', alpha=0.5)\n",
    "ax1.set_title('Spending Score vs Age')\n",
    "ax1.set_xlabel('Age')\n",
    "ax1.set_ylabel('Spending Score')\n",
    "\n",
    "ax2.scatter(Y[:, 0], Y[:, 1], s=50, cmap='viridis', alpha=0.5)\n",
    "ax2.set_title('Spending Score vs Annual Income')\n",
    "ax2.set_xlabel('Annual Income (1000s)')\n",
    "ax2.set_ylabel('Spending Score')\n",
    "plt.show()"
   ]
  },
  {
   "cell_type": "code",
   "execution_count": 38,
   "metadata": {},
   "outputs": [
    {
     "name": "stderr",
     "output_type": "stream",
     "text": [
      "/Users/Ricardo/anaconda3/lib/python3.7/site-packages/matplotlib/__init__.py:880: MatplotlibDeprecationWarning: \n",
      "nbagg.transparent\n",
      "  version, key, obj_type=\"rcparam\", alternative=alt_key)\n"
     ]
    },
    {
     "data": {
      "application/vnd.jupyter.widget-view+json": {
       "model_id": "0784b9bd88874d379e0d970f5220778b",
       "version_major": 2,
       "version_minor": 0
      },
      "text/plain": [
       "Canvas(toolbar=Toolbar(toolitems=[('Home', 'Reset original view', 'home', 'home'), ('Back', 'Back to previous …"
      ]
     },
     "metadata": {},
     "output_type": "display_data"
    }
   ],
   "source": [
    "X = dataset.iloc[:,[2,4]].values\n",
    "\n",
    "# calculate optimal number of clusters\n",
    "from sklearn.cluster import KMeans\n",
    "wcss = []   # create empty list to hold WCSS values for each K-Means fit\n",
    "\n",
    "# loop through 10 values of K to find the optimal value, calculate WCSS on each pass\n",
    "for i in range(1,11):\n",
    "    kmeans = KMeans(n_clusters = i, init = 'k-means++', max_iter = 300, n_init = 10,\n",
    "                    random_state=0)\n",
    "    kmeans.fit(X)\n",
    "    wcss.append(kmeans.inertia_) # kmeans.inertia_ is the WCSS calculation\n",
    "    \n",
    "# visualise the plot of WCSS - optimal K is found to be 5\n",
    "plt.figure() \n",
    "plt.plot(range(1,11), wcss)\n",
    "plt.title('WCSS Minimisation - Spending Score vs Age')\n",
    "plt.xlabel('K')\n",
    "plt.ylabel('WCSS')\n",
    "plt.show()"
   ]
  },
  {
   "cell_type": "code",
   "execution_count": 40,
   "metadata": {},
   "outputs": [
    {
     "name": "stderr",
     "output_type": "stream",
     "text": [
      "/Users/Ricardo/anaconda3/lib/python3.7/site-packages/matplotlib/__init__.py:880: MatplotlibDeprecationWarning: \n",
      "nbagg.transparent\n",
      "  version, key, obj_type=\"rcparam\", alternative=alt_key)\n"
     ]
    },
    {
     "data": {
      "application/vnd.jupyter.widget-view+json": {
       "model_id": "948e6a470f4c4fc0b748399a2bd4e176",
       "version_major": 2,
       "version_minor": 0
      },
      "text/plain": [
       "Canvas(toolbar=Toolbar(toolitems=[('Home', 'Reset original view', 'home', 'home'), ('Back', 'Back to previous …"
      ]
     },
     "metadata": {},
     "output_type": "display_data"
    }
   ],
   "source": [
    "# apply k means to mall dataset\n",
    "kmeans = KMeans(n_clusters = 4, init = 'k-means++', max_iter = 300, n_init = 10,\n",
    "                    random_state=0)\n",
    "y_kmeans = kmeans.fit_predict(X)\n",
    "\n",
    "plt.figure()\n",
    "plt.scatter(X[:, 0], X[:, 1], c=y_kmeans, s=50, cmap='viridis', alpha=0.3)\n",
    "\n",
    "centers = kmeans.cluster_centers_\n",
    "plt.scatter(centers[:, 0], centers[:, 1], c=np.arange(4), cmap='viridis', s=200, alpha=1.0)\n",
    "plt.scatter(centers[:, 0], centers[:, 1], c='black', s=50, alpha=1.0)\n",
    "plt.title('K-Means Clustering of Spending Score vs Age')\n",
    "plt.xlabel('Age')\n",
    "plt.ylabel('Spending Score')\n",
    "plt.show()"
   ]
  },
  {
   "cell_type": "code",
   "execution_count": 41,
   "metadata": {},
   "outputs": [
    {
     "name": "stderr",
     "output_type": "stream",
     "text": [
      "/Users/Ricardo/anaconda3/lib/python3.7/site-packages/matplotlib/__init__.py:880: MatplotlibDeprecationWarning: \n",
      "nbagg.transparent\n",
      "  version, key, obj_type=\"rcparam\", alternative=alt_key)\n"
     ]
    },
    {
     "data": {
      "application/vnd.jupyter.widget-view+json": {
       "model_id": "47f19602f1094e08b42434add58b6da1",
       "version_major": 2,
       "version_minor": 0
      },
      "text/plain": [
       "Canvas(toolbar=Toolbar(toolitems=[('Home', 'Reset original view', 'home', 'home'), ('Back', 'Back to previous …"
      ]
     },
     "metadata": {},
     "output_type": "display_data"
    }
   ],
   "source": [
    "X = dataset.iloc[:,[3,4]].values\n",
    "\n",
    "# calculate optimal number of clusters\n",
    "from sklearn.cluster import KMeans\n",
    "wcss = []   # create empty list to hold WCSS values for each K-Means fit\n",
    "\n",
    "# loop through 10 values of K to find the optimal value, calculate WCSS on each pass\n",
    "for i in range(1,11):\n",
    "    kmeans = KMeans(n_clusters = i, init = 'k-means++', max_iter = 300, n_init = 10,\n",
    "                    random_state=0)\n",
    "    kmeans.fit(X)\n",
    "    wcss.append(kmeans.inertia_) # kmeans.inertia_ is the WCSS calculation\n",
    "    \n",
    "# visualise the plot of WCSS - optimal K is found to be 5\n",
    "plt.figure() \n",
    "plt.plot(range(1,11), wcss)\n",
    "plt.title('WCSS Minimisation - Spending Score vs Annual Income')\n",
    "plt.xlabel('K')\n",
    "plt.ylabel('WCSS')\n",
    "plt.show()"
   ]
  },
  {
   "cell_type": "code",
   "execution_count": 42,
   "metadata": {},
   "outputs": [
    {
     "name": "stderr",
     "output_type": "stream",
     "text": [
      "/Users/Ricardo/anaconda3/lib/python3.7/site-packages/matplotlib/__init__.py:880: MatplotlibDeprecationWarning: \n",
      "nbagg.transparent\n",
      "  version, key, obj_type=\"rcparam\", alternative=alt_key)\n"
     ]
    },
    {
     "data": {
      "application/vnd.jupyter.widget-view+json": {
       "model_id": "2ea4da003a0f40cb8ed9c569b68edcb0",
       "version_major": 2,
       "version_minor": 0
      },
      "text/plain": [
       "Canvas(toolbar=Toolbar(toolitems=[('Home', 'Reset original view', 'home', 'home'), ('Back', 'Back to previous …"
      ]
     },
     "metadata": {},
     "output_type": "display_data"
    }
   ],
   "source": [
    "# apply k means to mall dataset\n",
    "kmeans = KMeans(n_clusters = 5, init = 'k-means++', max_iter = 300, n_init = 10,\n",
    "                    random_state=0)\n",
    "y_kmeans = kmeans.fit_predict(X)\n",
    "\n",
    "plt.figure()\n",
    "plt.scatter(X[:, 0], X[:, 1], c=y_kmeans, s=50, cmap='viridis', alpha=0.3)\n",
    "\n",
    "centers = kmeans.cluster_centers_\n",
    "plt.scatter(centers[:, 0], centers[:, 1], c=np.arange(5), cmap='viridis', s=200, alpha=1.0)\n",
    "plt.scatter(centers[:, 0], centers[:, 1], c='black', s=50, alpha=1.0)\n",
    "plt.title('K-Means Clustering of Spending Score vs Income')\n",
    "plt.xlabel('Annual Income (1000s)')\n",
    "plt.ylabel('Spending Score')\n",
    "plt.show()"
   ]
  },
  {
   "cell_type": "code",
   "execution_count": 43,
   "metadata": {},
   "outputs": [
    {
     "name": "stderr",
     "output_type": "stream",
     "text": [
      "/Users/Ricardo/anaconda3/lib/python3.7/site-packages/matplotlib/__init__.py:880: MatplotlibDeprecationWarning: \n",
      "nbagg.transparent\n",
      "  version, key, obj_type=\"rcparam\", alternative=alt_key)\n"
     ]
    },
    {
     "data": {
      "application/vnd.jupyter.widget-view+json": {
       "model_id": "14e82ab519e947b5bd7c712eb2b5bb10",
       "version_major": 2,
       "version_minor": 0
      },
      "text/plain": [
       "Canvas(toolbar=Toolbar(toolitems=[('Home', 'Reset original view', 'home', 'home'), ('Back', 'Back to previous …"
      ]
     },
     "metadata": {},
     "output_type": "display_data"
    }
   ],
   "source": [
    "X = dataset.iloc[:,[2,3,4]].values\n",
    "\n",
    "# calculate optimal number of clusters\n",
    "from sklearn.cluster import KMeans\n",
    "wcss = []   # create empty list to hold WCSS values for each K-Means fit\n",
    "\n",
    "# loop through 10 values of K to find the optimal value, calculate WCSS on each pass\n",
    "for i in range(1,11):\n",
    "    kmeans = KMeans(n_clusters = i, init = 'k-means++', max_iter = 300, n_init = 10,\n",
    "                    random_state=0)\n",
    "    kmeans.fit(X)\n",
    "    wcss.append(kmeans.inertia_) # kmeans.inertia_ is the WCSS calculation\n",
    "    \n",
    "# visualise the plot of WCSS - optimal K is found to be 5\n",
    "plt.figure() \n",
    "plt.plot(range(1,11), wcss)\n",
    "plt.title('WCSS Minimisation - Spending Score vs Annual Income')\n",
    "plt.xlabel('K')\n",
    "plt.ylabel('WCSS')\n",
    "plt.show()"
   ]
  },
  {
   "cell_type": "code",
   "execution_count": 44,
   "metadata": {},
   "outputs": [
    {
     "name": "stderr",
     "output_type": "stream",
     "text": [
      "/Users/Ricardo/anaconda3/lib/python3.7/site-packages/matplotlib/__init__.py:880: MatplotlibDeprecationWarning: \n",
      "nbagg.transparent\n",
      "  version, key, obj_type=\"rcparam\", alternative=alt_key)\n"
     ]
    },
    {
     "data": {
      "application/vnd.jupyter.widget-view+json": {
       "model_id": "019bd1d6626744cfb3928fb6fec5eabd",
       "version_major": 2,
       "version_minor": 0
      },
      "text/plain": [
       "Canvas(toolbar=Toolbar(toolitems=[('Home', 'Reset original view', 'home', 'home'), ('Back', 'Back to previous …"
      ]
     },
     "metadata": {},
     "output_type": "display_data"
    }
   ],
   "source": [
    "%matplotlib widget\n",
    "import matplotlib.pyplot as plt\n",
    "from mpl_toolkits.mplot3d import Axes3D\n",
    "\n",
    "# apply k means to mall dataset\n",
    "kmeans = KMeans(n_clusters = 5, init = 'k-means++', max_iter = 300, n_init = 10,\n",
    "                    random_state=0)\n",
    "y_kmeans = kmeans.fit_predict(X)\n",
    "\n",
    "fig = plt.figure()\n",
    "ax = fig.gca(projection='3d')\n",
    "ax.scatter(X[:, 0], X[:, 1], X[:, 2], c=y_kmeans, s=50, cmap='viridis', alpha=0.3)\n",
    "\n",
    "centers = kmeans.cluster_centers_\n",
    "ax.scatter(centers[:, 0], centers[:, 1], centers[:, 2], c=np.arange(5), cmap='viridis', s=200, alpha=1.0)\n",
    "ax.scatter(centers[:, 0], centers[:, 1], centers[:, 2], c='black', s=50, alpha=1.0)\n",
    "ax.set_title('K-Means Clustering of Spending Score vs Income & Age')\n",
    "ax.set_ylabel('Annual Income (1000s)')\n",
    "ax.set_xlabel('Age')\n",
    "ax.set_zlabel('Spending Score')\n",
    "plt.show()"
   ]
  },
  {
   "cell_type": "code",
   "execution_count": null,
   "metadata": {},
   "outputs": [],
   "source": []
  }
 ],
 "metadata": {
  "kernelspec": {
   "display_name": "Python 3",
   "language": "python",
   "name": "python3"
  },
  "language_info": {
   "codemirror_mode": {
    "name": "ipython",
    "version": 3
   },
   "file_extension": ".py",
   "mimetype": "text/x-python",
   "name": "python",
   "nbconvert_exporter": "python",
   "pygments_lexer": "ipython3",
   "version": "3.7.3"
  }
 },
 "nbformat": 4,
 "nbformat_minor": 2
}
